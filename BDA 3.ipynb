{
 "cells": [
  {
   "cell_type": "code",
   "execution_count": 28,
   "id": "fbe81437-b1d6-41f4-9d0c-f7ced44a1dc9",
   "metadata": {},
   "outputs": [
    {
     "name": "stdout",
     "output_type": "stream",
     "text": [
      "Alice: 81.5\n",
      "Bob: 90.0\n"
     ]
    }
   ],
   "source": [
    "# Define the grades data\n",
    "grades_data = [\n",
    "    (\"Alice\", 85),\n",
    "    (\"Bob\", 92),\n",
    "    (\"Alice\", 78),\n",
    "    (\"Bob\", 88)\n",
    "]\n",
    "\n",
    "# Initialize a dictionary to store total grades and count for each student\n",
    "student_grades = {}\n",
    "\n",
    "# Iterate through the grades data and calculate total grades and count for each student\n",
    "for student, grade in grades_data:\n",
    "    if student in student_grades:\n",
    "        student_grades[student][0] += grade\n",
    "        student_grades[student][1] += 1\n",
    "    else:\n",
    "        student_grades[student] = [grade, 1]\n",
    "\n",
    "# Calculate average grades for each student\n",
    "average_grades = {student: total_grade / count for student, (total_grade, count) in student_grades.items()}\n",
    "\n",
    "# Print average grades\n",
    "for student, avg_grade in average_grades.items():\n",
    "    print(f\"{student}: {avg_grade}\")\n"
   ]
  },
  {
   "cell_type": "code",
   "execution_count": null,
   "id": "5b454fa6-415b-4079-b4c9-2b488aa3cc72",
   "metadata": {},
   "outputs": [],
   "source": []
  }
 ],
 "metadata": {
  "kernelspec": {
   "display_name": "Python 3 (ipykernel)",
   "language": "python",
   "name": "python3"
  },
  "language_info": {
   "codemirror_mode": {
    "name": "ipython",
    "version": 3
   },
   "file_extension": ".py",
   "mimetype": "text/x-python",
   "name": "python",
   "nbconvert_exporter": "python",
   "pygments_lexer": "ipython3",
   "version": "3.11.7"
  }
 },
 "nbformat": 4,
 "nbformat_minor": 5
}

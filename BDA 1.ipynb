{
 "cells": [
  {
   "cell_type": "code",
   "execution_count": 12,
   "id": "0752b90d-5c0c-4870-a914-4714a3551d3f",
   "metadata": {},
   "outputs": [],
   "source": [
    "from collections import Counter\n",
    "import string\n",
    "\n",
    "def count_words(input_file, output_file):\n",
    "    # Read the input file and extract text\n",
    "    with open(input_file, 'r') as f:\n",
    "        text = f.read()\n",
    "\n",
    "    # Remove punctuation and convert text to lowercase\n",
    "    translator = str.maketrans('', '', string.punctuation)\n",
    "    text = text.translate(translator).lower()\n",
    "\n",
    "    # Count occurrences of each word\n",
    "    word_counts = Counter(text.split())\n",
    "\n",
    "    # Write word counts to the output file\n",
    "    with open(output_file, 'w') as f:\n",
    "        for word, count in word_counts.items():\n",
    "            f.write(f\"{word}: {count}\\n\")\n",
    "\n",
    "# Example usage:\n",
    "input_file = 'input.txt'\n",
    "output_file = 'word_counts.txt'\n",
    "count_words(input_file, output_file)\n"
   ]
  },
  {
   "cell_type": "code",
   "execution_count": null,
   "id": "402a5414-fe9a-4289-87e1-b3a40974b576",
   "metadata": {},
   "outputs": [],
   "source": []
  }
 ],
 "metadata": {
  "kernelspec": {
   "display_name": "Python 3 (ipykernel)",
   "language": "python",
   "name": "python3"
  },
  "language_info": {
   "codemirror_mode": {
    "name": "ipython",
    "version": 3
   },
   "file_extension": ".py",
   "mimetype": "text/x-python",
   "name": "python",
   "nbconvert_exporter": "python",
   "pygments_lexer": "ipython3",
   "version": "3.11.7"
  }
 },
 "nbformat": 4,
 "nbformat_minor": 5
}

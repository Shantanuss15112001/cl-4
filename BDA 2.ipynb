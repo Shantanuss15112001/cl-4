{
 "cells": [
  {
   "cell_type": "code",
   "execution_count": 29,
   "id": "2e336d04-549d-4da4-a7d7-103db2db6888",
   "metadata": {},
   "outputs": [
    {
     "name": "stdout",
     "output_type": "stream",
     "text": [
      "Result: [((0, 0), 75), ((0, 1), 95), ((0, 2), 115), ((1, 0), 105), ((1, 1), 133), ((1, 2), 161), ((2, 0), 135), ((2, 1), 171), ((2, 2), 207)]\n"
     ]
    }
   ],
   "source": [
    "from functools import reduce\n",
    "\n",
    "def matrix_multiply_mapper(row, col):\n",
    "    result = []\n",
    "    for i in range(len(row)):\n",
    "        for j in range(len(col)):\n",
    "            result.append(((i, j), row[i] * col[j]))\n",
    "    return result\n",
    "\n",
    "def matrix_multiply_reducer(cell_index, cell_values):\n",
    "    return (cell_index, sum(cell_values))\n",
    "\n",
    "def matrix_multiply(matrix1, matrix2):\n",
    "    result = []\n",
    "    for i in range(len(matrix1)):\n",
    "        for j in range(len(matrix2[0])):\n",
    "            row = matrix1[i]\n",
    "            col = [matrix2[k][j] for k in range(len(matrix2))]\n",
    "            cell_data = matrix_multiply_mapper(row, col)\n",
    "            result.extend(cell_data)\n",
    "    grouped_data = {}\n",
    "    for key, value in result:\n",
    "        if key in grouped_data:\n",
    "            grouped_data[key].append(value)\n",
    "        else:\n",
    "            grouped_data[key] = [value]\n",
    "    return [matrix_multiply_reducer(key, values) for key, values in grouped_data.items()]\n",
    "\n",
    "# Example matrices\n",
    "matrix1 = [[1, 2, 3], [4, 5, 6]]\n",
    "matrix2 = [[7, 8], [9, 10], [11, 12]]\n",
    "\n",
    "# Perform matrix multiplication using map-reduce\n",
    "result = matrix_multiply(matrix1, matrix2)\n",
    "print(\"Result:\", result)\n"
   ]
  },
  {
   "cell_type": "code",
   "execution_count": null,
   "id": "3933125e-1f98-4853-9a6b-3e787de6db76",
   "metadata": {},
   "outputs": [],
   "source": []
  }
 ],
 "metadata": {
  "kernelspec": {
   "display_name": "Python 3 (ipykernel)",
   "language": "python",
   "name": "python3"
  },
  "language_info": {
   "codemirror_mode": {
    "name": "ipython",
    "version": 3
   },
   "file_extension": ".py",
   "mimetype": "text/x-python",
   "name": "python",
   "nbconvert_exporter": "python",
   "pygments_lexer": "ipython3",
   "version": "3.11.7"
  }
 },
 "nbformat": 4,
 "nbformat_minor": 5
}
